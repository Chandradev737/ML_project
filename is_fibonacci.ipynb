{
 "cells": [
  {
   "cell_type": "code",
   "execution_count": 1,
   "metadata": {},
   "outputs": [],
   "source": [
    "import math\n",
    "\n",
    "# A function that returns true if x is perfect square \n",
    "\n",
    "def isPerfectSquare(x): \n",
    "    s = int(math.sqrt(x)) \n",
    "    return s*s == x \n",
    "\n",
    "# Returns true if n is a Fibinacci Number, else false \n",
    "# n is Fibinacci if one of 5*n*n + 4 or 5*n*n - 4 or both is a perferct square \n",
    "\n",
    "def isFibonacciNum(n): \n",
    "    return isPerfectSquare(5*n*n + 4) or isPerfectSquare(5*n*n - 4) \n",
    "\n",
    "# To check a list is a part of fibbonacci or not\n",
    "\n",
    "def is_fibonacci(lst):\n",
    "    for i in range(len(lst)):\n",
    "        if isFibonacciNum(lst[i]):\n",
    "            pass\n",
    "        else:\n",
    "            return False\n",
    "    return True"
   ]
  },
  {
   "cell_type": "code",
   "execution_count": 2,
   "metadata": {},
   "outputs": [],
   "source": [
    "list=[0,1,1,2,3,5,9]"
   ]
  },
  {
   "cell_type": "code",
   "execution_count": 3,
   "metadata": {},
   "outputs": [
    {
     "data": {
      "text/plain": [
       "False"
      ]
     },
     "execution_count": 3,
     "metadata": {},
     "output_type": "execute_result"
    }
   ],
   "source": [
    "is_fibonacci(list)"
   ]
  },
  {
   "cell_type": "code",
   "execution_count": 4,
   "metadata": {},
   "outputs": [],
   "source": [
    "list_2=[8,13,21,34,55]"
   ]
  },
  {
   "cell_type": "code",
   "execution_count": 5,
   "metadata": {},
   "outputs": [
    {
     "data": {
      "text/plain": [
       "True"
      ]
     },
     "execution_count": 5,
     "metadata": {},
     "output_type": "execute_result"
    }
   ],
   "source": [
    "is_fibonacci(list_2)"
   ]
  },
  {
   "cell_type": "code",
   "execution_count": null,
   "metadata": {},
   "outputs": [],
   "source": []
  }
 ],
 "metadata": {
  "kernelspec": {
   "display_name": "Python 3",
   "language": "python",
   "name": "python3"
  },
  "language_info": {
   "codemirror_mode": {
    "name": "ipython",
    "version": 3
   },
   "file_extension": ".py",
   "mimetype": "text/x-python",
   "name": "python",
   "nbconvert_exporter": "python",
   "pygments_lexer": "ipython3",
   "version": "3.6.4"
  }
 },
 "nbformat": 4,
 "nbformat_minor": 2
}
